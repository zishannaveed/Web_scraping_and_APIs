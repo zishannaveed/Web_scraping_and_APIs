{
 "cells": [
  {
   "cell_type": "code",
   "execution_count": null,
   "metadata": {},
   "outputs": [],
   "source": [
    "import pandas as pd\n",
    "import requests\n",
    "import json\n",
    "from datetime import datetime, timedelta\n",
    "import pytz"
   ]
  },
  {
   "cell_type": "code",
   "execution_count": null,
   "metadata": {},
   "outputs": [],
   "source": [
    "berlinTz = pytz.timezone(\"Europe/Berlin\") \n",
    "today = datetime.now(berlinTz).date()\n",
    "tomorrow= today + timedelta(days=1)\n",
    "api_key = \" API Key \"\n",
    "def get_weather_data(cities):\n",
    "    weather_dic={'city':[],'date_time':[],'temperature':[],'pressure':[],\n",
    "    'wind_speed':[],'visibility':[],'weather_condition':[],\n",
    "    'detailed_condition':[],'clouds':[],'rain':[]}\n",
    "\n",
    "    for city in cities:\n",
    "        url = f\"http://api.openweathermap.org/data/2.5/forecast?q={city}&appid={api_key}&units=metric\"\n",
    "        response=requests.get(url)\n",
    "        weather_des=response.json()\n",
    "\n",
    "        for item in weather_des['list']:\n",
    "            weather_dic['date_time'].append(item['dt_txt'])   #Time of data forecasted (3 hours interval)\n",
    "            weather_dic['temperature'].append(item['main']['temp'])   #Temperature, celsius\n",
    "            weather_dic['pressure'].append(item['main']['pressure'])  #Atmospheric pressure on the sea level unit:hpa(hectopascal=millibar)\n",
    "            weather_dic['wind_speed'].append(item['wind']['speed'])   #Wind speed, m/s\n",
    "            weather_dic['visibility'].append(item['visibility'])   #Average visibility, metres\n",
    "            weather_dic['weather_condition'].append(item['weather'][0]['main'])   #Group of weather parameters (Rain, Snow etc.)\n",
    "            weather_dic['detailed_condition'].append(item['weather'][0]['description']) #Weather condition within the group\n",
    "            try:\n",
    "                weather_dic['rain'].append(item['rain']['3h']) #Rain volume for last 3 hours, mm\n",
    "            except:\n",
    "                weather_dic['rain'].append(0)    \n",
    "            weather_dic['clouds'].append(item['clouds']['all'])        #Cloudiness, %    \n",
    "        weather_dic['city'].extend([weather_des['city']['name']] * len(weather_des['list']))   #city     \n",
    "        weather_data=pd.DataFrame(weather_dic)\n",
    "        weather_data=weather_data.loc[pd.to_datetime(weather_data['date_time']).dt.date==tomorrow].reset_index(drop=True)\n",
    "    return weather_data"
   ]
  },
  {
   "cell_type": "code",
   "execution_count": null,
   "metadata": {},
   "outputs": [],
   "source": [
    "list_of_cities=['Berlin','London','Madrid','Milan','Munich','Paris']\n",
    "df=get_weather_data(list_of_cities)\n",
    "df"
   ]
  },
  {
   "cell_type": "code",
   "execution_count": null,
   "metadata": {},
   "outputs": [],
   "source": [
    "import sqlalchemy"
   ]
  },
  {
   "cell_type": "code",
   "execution_count": null,
   "metadata": {},
   "outputs": [],
   "source": [
    "schema=\"db_weather_flights\"   # name of the database you want to use here\n",
    "host=\"127.0.0.1\"              # to connect to your local server\n",
    "user=\"root\"\n",
    "password=\"Your Password\"     # your password!!!!\n",
    "port=3306\n",
    "con = f'mysql+pymysql://{user}:{password}@{host}:{port}/{schema}'"
   ]
  },
  {
   "cell_type": "code",
   "execution_count": null,
   "metadata": {},
   "outputs": [],
   "source": [
    "df.to_sql('weather',              # 'cities'-> table name;\n",
    "              if_exists='append', # if_exists -> will create new table if doesn't exist, otherwise, 'append' - will append data to existing table;\n",
    "              con=con,            # con-> connection string;\n",
    "              index=False) "
   ]
  }
 ],
 "metadata": {
  "kernelspec": {
   "display_name": "base",
   "language": "python",
   "name": "python3"
  },
  "language_info": {
   "name": "python",
   "version": "3.9.13"
  },
  "orig_nbformat": 4,
  "vscode": {
   "interpreter": {
    "hash": "033306f7acb5b229abd71b38a98b69899b85a5e011b812f9c1237c1eb3a45fd0"
   }
  }
 },
 "nbformat": 4,
 "nbformat_minor": 2
}
