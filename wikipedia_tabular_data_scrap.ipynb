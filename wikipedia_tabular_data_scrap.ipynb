{
 "cells": [
  {
   "cell_type": "code",
   "execution_count": null,
   "metadata": {},
   "outputs": [],
   "source": [
    "# 1. import libraries\n",
    "from bs4 import BeautifulSoup\n",
    "import requests\n",
    "import pandas as pd\n",
    "import re"
   ]
  },
  {
   "cell_type": "code",
   "execution_count": null,
   "metadata": {},
   "outputs": [],
   "source": [
    "# find url and store it in a variable\n",
    "url = \"https://en.wikipedia.org/wiki/List_of_European_cities_by_population_within_city_limits\"\n",
    "\n",
    "# download html with a get request\n",
    "headers = {\"Accept-Language\": \"en-US,en;q=0.8\"}\n",
    "response = requests.get(url, headers=headers)\n",
    "response.status_code  # 200 status code means OK!\n",
    "\n",
    "# parse html (create the 'soup')\n",
    "soup = BeautifulSoup(response.content, \"html.parser\")\n",
    "\n",
    "# Find the table on the page\n",
    "table = soup.find(\"table\", attrs={\"class\": \"wikitable sortable\"})\n",
    "\n",
    "# Find all rows in the table, skipping the first row (header row)\n",
    "rows = table.find_all(\"tr\")[1:]  # tr defines a row in a table\n",
    "\n",
    "# create an empty list to store the data\n",
    "data = []\n",
    "\n",
    "# Iterate over each row\n",
    "for row in rows:\n",
    "    # Find all cells in the row\n",
    "    cells = row.find_all(\"td\")  # td defines a cell in a table\n",
    "\n",
    "    city = cells[1].contents[0].text\n",
    "    country = cells[2].contents[1].text\n",
    "    population = int(cells[3].contents[0].text.replace(\",\", \"\"))\n",
    "    latitude = (cells[7].select(\"span.latitude\")[0]\n",
    "        .text.replace(\"°\", \".\")\n",
    "        .replace(\"″\", \"\").replace(\"′\", \"\")\n",
    "    )\n",
    "    latitude = re.split(\"[a-zA-Z]\", latitude)[0]\n",
    "    longitude = (cells[7].select(\"span.longitude\")[0]\n",
    "        .text.replace(\"°\", \".\")\n",
    "        .replace(\"″\", \"\").replace(\"′\", \"\")\n",
    "    )\n",
    "    longitude = re.split(\"[a-zA-Z]\", longitude)[0]\n",
    "    data.append([city, country, population, latitude, longitude])\n",
    "# Convert the data list to a pandas dataframe\n",
    "df = pd.DataFrame(\n",
    "    data, columns=[\"City\", \"Country\", \"Population\", \"latitude\", \"longitude\"]\n",
    ")\n"
   ]
  }
 ],
 "metadata": {
  "kernelspec": {
   "display_name": "base",
   "language": "python",
   "name": "python3"
  },
  "language_info": {
   "name": "python",
   "version": "3.9.13"
  },
  "orig_nbformat": 4,
  "vscode": {
   "interpreter": {
    "hash": "033306f7acb5b229abd71b38a98b69899b85a5e011b812f9c1237c1eb3a45fd0"
   }
  }
 },
 "nbformat": 4,
 "nbformat_minor": 2
}
