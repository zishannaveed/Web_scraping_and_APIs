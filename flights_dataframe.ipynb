{
 "cells": [
  {
   "cell_type": "code",
   "execution_count": 1,
   "metadata": {},
   "outputs": [],
   "source": [
    "import pandas as pd\n",
    "import requests\n",
    "import json\n",
    "from datetime import datetime, timedelta\n",
    "import pytz"
   ]
  },
  {
   "cell_type": "code",
   "execution_count": 8,
   "metadata": {},
   "outputs": [],
   "source": [
    "def get_flights_data(icao_codes):\n",
    "    df_airports = get_airports_data(icao_codes).iloc[:,0:5]                                    #call function to get the airport details\n",
    "    df_flights = flight_dataframe(icao_codes)                                                  #call function to get the flights details\n",
    "    data = df_flights.merge(right=df_airports, on='icao', how='inner')                         #merge to dataframes to get the final DF\n",
    "    data.rename(columns={'icao':'arrival_icao','iata':'arrival_iata',\n",
    "    'fullName':'arrival_airport','municipalityName':'arrival_city'}, inplace=True)             #rename the columns\n",
    "    data['departure_time_local'] = pd.to_datetime(data['departure_time_local'].str[:16])       #convert the departure time to datetime\n",
    "    data['arrival_time_local'] = pd.to_datetime(data['arrival_time_local'].str[:16])           #convert the departure time to datetime\n",
    "    data=data.reindex(columns=['departure_airport','departure_time_local','arrival_city','arrival_icao','arrival_iata','arrival_airport',\n",
    "    'arrival_time_local','airline','flight_number','flight_status'])\n",
    "    return data\n",
    "\n",
    "def get_airports_data(icao_codes):\n",
    "    list_for_df = []\n",
    "\n",
    "    for i in icao_codes:\n",
    "        url = f\"https://aerodatabox.p.rapidapi.com/airports/icao/{i}\"\n",
    "        headers = {\n",
    "            \"X-RapidAPI-Host\": \"aerodatabox.p.rapidapi.com\",\n",
    "            \"X-RapidAPI-Key\": \"API Key\"                           #API Key\n",
    "        }\n",
    "        response = requests.request(\"GET\", url, headers=headers)\n",
    "        list_for_df.append(pd.json_normalize(response.json()))\n",
    "\n",
    "    df_airports = pd.concat(list_for_df, ignore_index=True)\n",
    "    return df_airports\n",
    "\n",
    "def flight_dataframe(icao_codes):\n",
    "    flight_dic = {'departure_airport':[], 'departure_time_local':[], 'icao':[], 'arrival_time_local':[],               #Initilize the dictionary\n",
    "                 'flight_status':[], 'flight_number':[], 'airline':[]}\n",
    "    berlinTz = pytz.timezone(\"Europe/Berlin\") \n",
    "    today = datetime.now(berlinTz).date()\n",
    "    tomorrow= today + timedelta(days=1)\n",
    "\n",
    "    for icao_code in icao_codes:\n",
    "        times = [[\"00:00\",\"11:59\"],[\"12:00\",\"23:59\"]]\n",
    "\n",
    "        for time in times:\n",
    "            url = f\"https://aerodatabox.p.rapidapi.com/flights/airports/icao/{icao_code}/{tomorrow}T{time[0]}/{tomorrow}T{time[1]}\"\n",
    "            querystring = {\"withLeg\":\"true\",\"direction\":\"Arrival\",\"withCancelled\":\"true\",\"withCodeshared\":\"false\",\"withCargo\":\"false\",\"withPrivate\":\"true\",\"withLocation\":\"false\"}\n",
    "            headers = {\n",
    "                \"X-RapidAPI-Key\": \"API_Key\",                         #API Key\n",
    "                \"X-RapidAPI-Host\": \"aerodatabox.p.rapidapi.com\"\n",
    "            }\n",
    "            response2 = requests.request(\"GET\", url, headers=headers, params=querystring)\n",
    "            response2.raise_for_status()                                                                        #response status\n",
    "            result2 = response2.json()                                                                          # json format\n",
    "\n",
    "            for item in result2['arrivals']:\n",
    "                flight_dic['departure_airport'].append(item['departure']['airport'].get('name',None))                    # departure airport\n",
    "                flight_dic['departure_time_local'].append(item['departure'].get('scheduledTimeLocal', None))        # departure time\n",
    "                flight_dic['icao'].append(icao_code)                                                            # arrival airport\n",
    "                flight_dic['arrival_time_local'].append(item['arrival'].get('scheduledTimeLocal',None))                        # arrival time \n",
    "                flight_dic['flight_status'].append(item['status'])                                              # flight status\n",
    "                flight_dic['flight_number'].append(item['number'])                                                  # flight number\n",
    "                flight_dic['airline'].append(item['airline'].get('name',None))                                           # airline\n",
    "    df_flights=pd.DataFrame(flight_dic)\n",
    "    return df_flights"
   ]
  },
  {
   "cell_type": "code",
   "execution_count": null,
   "metadata": {},
   "outputs": [],
   "source": [
    "#list_airports=['BER', 'LHR', 'CDG', 'MAD', 'MXP', 'MUC']        # [Berlin, London, Paris, Madrid, Milan, Munich]\n",
    "list_airports=['EDDB', 'EGLL', 'LFPG', 'LEMD', 'LIMC', 'EDDM']\n",
    "df=get_flights_data(list_airports)\n",
    "df"
   ]
  },
  {
   "cell_type": "code",
   "execution_count": 10,
   "metadata": {},
   "outputs": [],
   "source": [
    "schema=\"db_weather_flights\"   # name of the database you want to use here\n",
    "host=\"127.0.0.1\"              # to connect to your local server\n",
    "user=\"root\"\n",
    "password=\" Password \" # your password!!!!\n",
    "port=3306\n",
    "con = f'mysql+pymysql://{user}:{password}@{host}:{port}/{schema}'"
   ]
  },
  {
   "cell_type": "code",
   "execution_count": 11,
   "metadata": {},
   "outputs": [
    {
     "data": {
      "text/plain": [
       "2373"
      ]
     },
     "execution_count": 11,
     "metadata": {},
     "output_type": "execute_result"
    }
   ],
   "source": [
    "df.to_sql('flights',              # 'cities'-> table name;\n",
    "              if_exists='append', # if_exists -> will create new table if doesn't exist, otherwise, 'append' - will append data to existing table;\n",
    "              con=con,            # con-> connection string;\n",
    "              index=False) "
   ]
  }
 ],
 "metadata": {
  "kernelspec": {
   "display_name": "base",
   "language": "python",
   "name": "python3"
  },
  "language_info": {
   "codemirror_mode": {
    "name": "ipython",
    "version": 3
   },
   "file_extension": ".py",
   "mimetype": "text/x-python",
   "name": "python",
   "nbconvert_exporter": "python",
   "pygments_lexer": "ipython3",
   "version": "3.9.13"
  },
  "orig_nbformat": 4,
  "vscode": {
   "interpreter": {
    "hash": "033306f7acb5b229abd71b38a98b69899b85a5e011b812f9c1237c1eb3a45fd0"
   }
  }
 },
 "nbformat": 4,
 "nbformat_minor": 2
}
